{
  "nbformat": 4,
  "nbformat_minor": 0,
  "metadata": {
    "colab": {
      "provenance": []
    },
    "kernelspec": {
      "name": "python3",
      "display_name": "Python 3"
    },
    "language_info": {
      "name": "python"
    }
  },
  "cells": [
    {
      "cell_type": "markdown",
      "source": [
        "**Name - Mohammad Saify Sheikh**"
      ],
      "metadata": {
        "id": "9fM5Pdj002m5"
      }
    },
    {
      "cell_type": "markdown",
      "source": [
        "This Lookalike Model identifies the top 3 most similar customers based on their purchase behavior, spending habits, and category preferences. It uses a weighted cosine similarity approach combined with Manhattan distance-based clustering to ensure accurate recommendations. The model normalizes features, assigns weights."
      ],
      "metadata": {
        "id": "8DwwiLzk07qx"
      }
    },
    {
      "cell_type": "code",
      "execution_count": 14,
      "metadata": {
        "colab": {
          "base_uri": "https://localhost:8080/"
        },
        "id": "HQ4-6NBjxELD",
        "outputId": "ddfa062b-8675-4e55-e541-0ed27e640c84"
      },
      "outputs": [
        {
          "output_type": "stream",
          "name": "stdout",
          "text": [
            "Enter Customer ID to find similar customers: C0001\n",
            "\n",
            "🔍 **Similar Customers to C0001:**\n",
            "1. Customer ID: C0069 | Similarity Score: 0.9947\n",
            "2. Customer ID: C0055 | Similarity Score: 0.994\n",
            "3. Customer ID: C0072 | Similarity Score: 0.9925\n"
          ]
        },
        {
          "output_type": "execute_result",
          "data": {
            "text/plain": [
              "[('C0069', 0.9947), ('C0055', 0.994), ('C0072', 0.9925)]"
            ]
          },
          "metadata": {},
          "execution_count": 14
        }
      ],
      "source": [
        "import pandas as pd\n",
        "import numpy as np\n",
        "from sklearn.preprocessing import RobustScaler, MinMaxScaler\n",
        "from sklearn.neighbors import NearestNeighbors\n",
        "from scipy.spatial.distance import cosine\n",
        "\n",
        "customers = pd.read_csv(\"Customers.csv\")\n",
        "products = pd.read_csv(\"Products.csv\")\n",
        "transactions = pd.read_csv(\"Transactions.csv\")\n",
        "\n",
        "merged = transactions.merge(customers, on=\"CustomerID\").merge(products, on=\"ProductID\")\n",
        "\n",
        "customer_features = merged.groupby(\"CustomerID\").agg({\n",
        "    \"TotalValue\": \"sum\",\n",
        "    \"TransactionID\": \"count\",\n",
        "    \"Price_x\": \"mean\",\n",
        "    \"Category\": lambda x: x.mode()[0] if not x.mode().empty else \"Unknown\",\n",
        "    \"TransactionDate\": lambda x: (pd.to_datetime(\"2024-12-31\") - pd.to_datetime(x)).mean().days,\n",
        "}).reset_index()\n",
        "\n",
        "customer_features[\"Category\"] = customer_features[\"Category\"].astype(\"category\").cat.codes\n",
        "\n",
        "weights = {\n",
        "    \"TotalValue\": 1.5,\n",
        "    \"TransactionID\": 1.2,\n",
        "    \"Price_x\": 1.0,\n",
        "    \"Category\": 1.3,\n",
        "    \"TransactionDate\": 0.8\n",
        "}\n",
        "\n",
        "for feature, weight in weights.items():\n",
        "    customer_features[feature] *= weight\n",
        "\n",
        "scaler = MinMaxScaler()\n",
        "customer_features_scaled = scaler.fit_transform(customer_features.drop(columns=[\"CustomerID\"]))\n",
        "\n",
        "def weighted_cosine_similarity(a, b):\n",
        "    return 1 - cosine(a, b)\n",
        "\n",
        "knn = NearestNeighbors(n_neighbors=4, metric=\"manhattan\")\n",
        "knn.fit(customer_features_scaled)\n",
        "\n",
        "def find_lookalikes(cust_id):\n",
        "    if cust_id not in customer_features[\"CustomerID\"].values:\n",
        "        print(f\"⚠️ Customer ID {cust_id} not found.\")\n",
        "        return\n",
        "\n",
        "    idx = customer_features[customer_features[\"CustomerID\"] == cust_id].index[0]\n",
        "    distances, indices = knn.kneighbors([customer_features_scaled[idx]])\n",
        "\n",
        "    similar_customers = []\n",
        "\n",
        "    for dist, idx in zip(distances[0][1:], indices[0][1:]):\n",
        "        sim_cust_id = customer_features.iloc[idx][\"CustomerID\"]\n",
        "        sim_score = round(weighted_cosine_similarity(customer_features_scaled[idx], customer_features_scaled[indices[0][0]]), 4)\n",
        "        similar_customers.append((sim_cust_id, sim_score))\n",
        "\n",
        "    # Sort\n",
        "    similar_customers = sorted(similar_customers, key=lambda x: x[1], reverse=True)\n",
        "\n",
        "    print(f\"\\n🔍 **Similar Customers to {cust_id}:**\")\n",
        "    for i, (sim_cust_id, score) in enumerate(similar_customers, 1):\n",
        "        print(f\"{i}. Customer ID: {sim_cust_id} | Similarity Score: {score}\")\n",
        "\n",
        "    return similar_customers\n",
        "\n",
        "cust_id_input = input(\"Enter Customer ID to find similar customers: \").strip()\n",
        "find_lookalikes(cust_id_input)\n"
      ]
    }
  ]
}